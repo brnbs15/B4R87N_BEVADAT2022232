{
 "cells": [
  {
   "cell_type": "code",
   "execution_count": null,
   "metadata": {},
   "outputs": [],
   "source": [
    "#Create a function that decides if a list contains any odd numbers.\n",
    "#return type: bool\n",
    "#function name must be: contains_odd\n",
    "#input parameters: input_list"
   ]
  },
  {
   "cell_type": "code",
   "execution_count": null,
   "metadata": {},
   "outputs": [],
   "source": [
    "def contains_odd(input_list : list) -> bool:\n",
    "    oddnum=False\n",
    "    i = 0\n",
    "    while(i<len(input_list) and input_list[i]%2==0):\n",
    "        i=i+1\n",
    "    if(i<len(input_list)):\n",
    "        oddnum=True\n",
    "    return oddnum"
   ]
  },
  {
   "cell_type": "code",
   "execution_count": null,
   "metadata": {},
   "outputs": [],
   "source": [
    "#Create a function that accepts a list of integers, and returns a list of bool.\n",
    "#The return list should be a \"mask\" and indicate whether the list element is odd or not.\n",
    "#(return should look like this: [True,False,False,.....])\n",
    "#return type: list\n",
    "#function name must be: is_odd\n",
    "#input parameters: input_list"
   ]
  },
  {
   "cell_type": "code",
   "execution_count": null,
   "metadata": {},
   "outputs": [],
   "source": [
    "def is_odd(input_list : list) -> list:\n",
    "    masked_list = []\n",
    "    for item in input_list:\n",
    "        if item % 2 == 0:\n",
    "            masked_list.append(True)\n",
    "        else:\n",
    "            masked_list.append(False)\n",
    "    return masked_list"
   ]
  },
  {
   "cell_type": "code",
   "execution_count": null,
   "metadata": {},
   "outputs": [],
   "source": [
    "\n",
    "#Create a function that accpects 2 lists of integers and returns their element wise sum. <br>\n",
    "#(return should be a list)\n",
    "#return type: list\n",
    "#function name must be: element_wise_sum\n",
    "#input parameters: input_list_1, input_list_2"
   ]
  },
  {
   "cell_type": "code",
   "execution_count": null,
   "metadata": {},
   "outputs": [],
   "source": [
    "def element_wise_sum(input_list1 : list, input_list2 : list) -> list:\n",
    "    i = 0\n",
    "    j = 0\n",
    "    sum_list = []\n",
    "    while( i < len(input_list1) and j < len(input_list2)):\n",
    "        sum_list.append(input_list1[i]+input_list2[j])\n",
    "        i = i + 1\n",
    "        j = j + 1\n",
    "    while(i < len(input_list1)):\n",
    "        sum_list.append(input_list1[i])\n",
    "        i = i + 1\n",
    "    while(j < len(input_list2)):\n",
    "        sum_list.append(input_list2[j])\n",
    "        j = j + 1\n",
    "    return sum_list"
   ]
  },
  {
   "cell_type": "code",
   "execution_count": null,
   "metadata": {},
   "outputs": [],
   "source": [
    "#Create a function that accepts a dictionary and returns its items as a list of tuples\n",
    "#(return should look like this: [(key,value),(key,value),....])\n",
    "#return type: list\n",
    "#function name must be: dict_to_list\n",
    "#input parameters: input_dict"
   ]
  },
  {
   "cell_type": "code",
   "execution_count": null,
   "metadata": {},
   "outputs": [],
   "source": [
    "def dict_to_list(input_dict : dict) -> list:\n",
    "    output_list=[]\n",
    "    for key,value in input_dict.items():\n",
    "        output_list.append((key,value))\n",
    "    return output_list"
   ]
  },
  {
   "cell_type": "code",
   "execution_count": null,
   "metadata": {},
   "outputs": [],
   "source": [
    "#If all the functions are created convert this notebook into a .py file and push to your repo"
   ]
  }
 ],
 "metadata": {
  "kernelspec": {
   "display_name": "Python 3",
   "language": "python",
   "name": "python3"
  },
  "language_info": {
   "name": "python",
   "version": "3.10.6"
  },
  "orig_nbformat": 4,
  "vscode": {
   "interpreter": {
    "hash": "916dbcbb3f70747c44a77c7bcd40155683ae19c65e1c03b4aa3499c5328201f1"
   }
  }
 },
 "nbformat": 4,
 "nbformat_minor": 2
}
