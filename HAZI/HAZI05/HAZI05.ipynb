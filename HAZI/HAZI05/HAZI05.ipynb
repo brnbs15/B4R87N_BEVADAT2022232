{
 "cells": [
  {
   "cell_type": "code",
   "execution_count": 13,
   "metadata": {},
   "outputs": [],
   "source": [
    "\n",
    "import pandas as pd\n",
    "import seaborn as sns\n",
    "\n",
    "from typing import Tuple\n",
    "from scipy.stats import mode\n",
    "from  sklearn.metrics import confusion_matrix, euclidean_distances\n"
   ]
  },
  {
   "cell_type": "code",
   "execution_count": 17,
   "metadata": {},
   "outputs": [],
   "source": [
    "def load_csv(csv_path:str) ->Tuple[pd.Series,pd.Series]:\n",
    "        pd.random.seed(42)\n",
    "        dataset = pd.genfromtxt(csv_path,delimiter=',')\n",
    "        pd.random.shuffle(dataset,)\n",
    "        x,y = dataset[:,:4],dataset[:,-1]\n",
    "        return x,y"
   ]
  }
 ],
 "metadata": {
  "kernelspec": {
   "display_name": "Python 3",
   "language": "python",
   "name": "python3"
  },
  "language_info": {
   "codemirror_mode": {
    "name": "ipython",
    "version": 3
   },
   "file_extension": ".py",
   "mimetype": "text/x-python",
   "name": "python",
   "nbconvert_exporter": "python",
   "pygments_lexer": "ipython3",
   "version": "3.8.10"
  },
  "orig_nbformat": 4
 },
 "nbformat": 4,
 "nbformat_minor": 2
}
